{
 "cells": [
  {
   "cell_type": "markdown",
   "metadata": {
    "id": "kJ6ssXaGJfGN"
   },
   "source": [
    "## Python Programming for Data Science  \n",
    "### Define and implement the classes of stack, ragged grid, deque"
   ]
  },
  {
   "cell_type": "markdown",
   "metadata": {
    "id": "Z5lAKTm6SWNs"
   },
   "source": [
    "### **Question 1**:\n",
    "\n",
    "Assume the following class implements the STACK abstract data type (ADT) using the array ADT.\n",
    "\n",
    "```\n",
    "class aStack(iArray):\n",
    "    def __init__(self, capacity = 5):\n",
    "        self._items = iArray(capacity)\n",
    "        self._top = -1\n",
    "        self._size = 0 \n",
    "    def push(self, newItem):\n",
    "        self._top += 1\n",
    "        self._size += 1\n",
    "        self._items[self._top] = newItem\n",
    "    def pop(self):\n",
    "        oldItem = self._items[self._top]\n",
    "        self._items[self._top] = None\n",
    "        self._top -= 1\n",
    "        self._size -= 1\n",
    "        return oldItem\n",
    "    def peek(self):\n",
    "        return self._items[self._top]\n",
    "    def __len__(self):\n",
    "        return self._size\n",
    "    def __str__(self):\n",
    "        result = ' '\n",
    "        for i in range(len(self)):\n",
    "            result += str(self._items[i]) + ' '\n",
    "        return result\n",
    "```\n"
   ]
  },
  {
   "cell_type": "markdown",
   "metadata": {
    "id": "nkZH7oR39oPj"
   },
   "source": [
    "**a)** Emulate the stack behavior using the Python list data structure rather than the Arrary ADT."
   ]
  },
  {
   "cell_type": "code",
   "execution_count": 1,
   "metadata": {
    "execution": {
     "iopub.execute_input": "2022-06-02T20:43:50.127Z",
     "iopub.status.busy": "2022-06-02T20:43:50.119Z",
     "iopub.status.idle": "2022-06-02T20:43:50.137Z",
     "shell.execute_reply": "2022-06-02T20:43:49.992Z"
    },
    "id": "e7s_fWLNyi3h",
    "jupyter": {
     "outputs_hidden": false,
     "source_hidden": false
    },
    "nteract": {
     "transient": {
      "deleting": false
     }
    },
    "scrolled": true
   },
   "outputs": [
    {
     "name": "stdout",
     "output_type": "stream",
     "text": [
      "[1, 2, 3, 4, 5]\n",
      "[1, 2, 3, 4, 5]\n",
      "5\n",
      "4\n",
      "4\n",
      " 1 2 3 4 \n",
      "<class 'str'>\n"
     ]
    }
   ],
   "source": [
    "# a) Emulate the STACK ADT using Python list\n",
    "class Stack:\n",
    "    def __init__(self, iArray=[]):\n",
    "        if len(iArray) > 5:\n",
    "            iArray = iArray[:5]   # A Python list with a max length of 5\n",
    "            self.items = iArray \n",
    "        else:      \n",
    "            self.items = iArray\n",
    "    def isEmpty(self):            # Returns True if the stack is empty or return False\n",
    "        if len(self) == 0:\n",
    "            return True\n",
    "        else:\n",
    "            return False\n",
    "    def push(self, newItem):\n",
    "        while len(self.items) < 5: # The fifth element is the max limit, can't append after that\n",
    "            self.items.append(newItem)\n",
    "    def pop(self):\n",
    "        if self.isEmpty():        # Check if it's an empty stack to pop\n",
    "            return \"The stack is empty.\"     \n",
    "        else:\n",
    "            item_to_pop = self.items[-1]\n",
    "            self.items.pop()\n",
    "            return item_to_pop\n",
    "    def peek(self):               # Check if it's an empty stack to peek\n",
    "        if self.isEmpty():\n",
    "            return \"The stack is empty.\"\n",
    "        else:\n",
    "            return self.items[-1] \n",
    "    def __len__(self):\n",
    "        return len(self.items)\n",
    "    def __str__(self):\n",
    "        result = ' '\n",
    "        for i in range(len(self)):\n",
    "            result += str(self.items[i]) + ' '\n",
    "        return result\n",
    "\n",
    "# Test the class with a `first_stack` object with its method\n",
    "if __name__ == \"__main__\":\n",
    "    first_stack = Stack([1, 2, 3, 4, 5, 9])\n",
    "    print(first_stack.items)\n",
    "    first_stack.push(6)\n",
    "    print(first_stack.items)\n",
    "    print(first_stack.pop())\n",
    "    print(first_stack.peek())\n",
    "    print(len(first_stack))\n",
    "    print(str(first_stack))\n",
    "    print(type(str(first_stack)))"
   ]
  },
  {
   "cell_type": "markdown",
   "metadata": {},
   "source": [
    "**b)** Redefine the Stack class methods to push and pop two items rather than one item at a time.\n",
    "\n",
    "For example, if the stack includes numbers from one to ten:\n",
    "`[1, 2, 3, 4, 5, 6, 7, 8, 9, 10]`, then invoking the `pop()` method twice will remove the last four elements and modify the stack elements to be:\n",
    "`[1, 2, 3, 4, 5, 6]`\n",
    "\n"
   ]
  },
  {
   "cell_type": "code",
   "execution_count": 2,
   "metadata": {
    "execution": {
     "iopub.execute_input": "2022-06-02T20:43:50.157Z",
     "iopub.status.busy": "2022-06-02T20:43:50.150Z",
     "iopub.status.idle": "2022-06-02T20:43:50.163Z",
     "shell.execute_reply": "2022-06-02T20:43:50.000Z"
    },
    "id": "VM1VhboJSWNs",
    "jupyter": {
     "outputs_hidden": false
    },
    "pycharm": {
     "name": "#%%\n"
    }
   },
   "outputs": [
    {
     "name": "stdout",
     "output_type": "stream",
     "text": [
      "Push 2 items at the same time from the second_stack object of [1, 2, 3, 4, 5, 6, 7, 8, 9, 10]\n",
      "[1, 2, 3, 4, 5, 6, 7, 8, 9, 10]\n",
      "[1, 2, 3, 4, 5, 6, 7, 8, 9, 10, 11, 11]\n",
      "\n",
      "Pop 2 items at the same time from the third_stack object of [1, 2, 3, 4, 5, 6, 7, 8, 9, 10]\n",
      "[1, 2, 3, 4, 5, 6, 7, 8, 9, 10]\n",
      "[9, 10]\n",
      "[1, 2, 3, 4, 5, 6, 7, 8]\n",
      "[7, 8]\n",
      "[1, 2, 3, 4, 5, 6]\n"
     ]
    }
   ],
   "source": [
    "# b) Redefine the Stack class methods to push and pop two items rather than one item at a time\n",
    "####  We need to readjust the Stack ADT class and remove the capacity of 5 to accept a bigger list\n",
    "class adj_Stack:\n",
    "    def __init__(self, iArray=[]):\n",
    "        self._items = iArray \n",
    "    def isEmpty(self):            # Returns True if the stack is empty or return False\n",
    "        if len(self) == 0:\n",
    "            return True\n",
    "        else:\n",
    "            return False\n",
    "    def push(self, newItem):\n",
    "        self._items = self._items + [newItem]*2    # Push 2 items at the same time\n",
    "    def pop(self):\n",
    "        if self.isEmpty():        # Check if it's an empty stack to pop\n",
    "            return \"The stack is empty.\"     \n",
    "        else:\n",
    "            items_to_pop = self._items[-2:]\n",
    "            del self._items[-2:]   # Pop 2 items at the same time\n",
    "            return items_to_pop\n",
    "    def peek(self):               # Check if it's an empty stack to peek\n",
    "        if self.isEmpty():\n",
    "            return \"The stack is empty.\"\n",
    "        else:\n",
    "            return self._items[-1] \n",
    "    def __len__(self):\n",
    "        return len(self._items)\n",
    "    def __str__(self):\n",
    "        result = ' '\n",
    "        for i in range(len(self)):\n",
    "            result += str(self._items[i]) + ' '\n",
    "        return result\n",
    "\n",
    "if __name__ == \"__main__\":\n",
    "    print(\"Push 2 items at the same time from the second_stack object of [1, 2, 3, 4, 5, 6, 7, 8, 9, 10]\")\n",
    "    second_stack = adj_Stack([1, 2, 3, 4, 5, 6, 7, 8, 9, 10])\n",
    "    print(second_stack._items)\n",
    "    second_stack.push(11)\n",
    "    print(second_stack._items)\n",
    "\n",
    "    print(\"\\nPop 2 items at the same time from the third_stack object of [1, 2, 3, 4, 5, 6, 7, 8, 9, 10]\")\n",
    "    third_stack = adj_Stack([1, 2, 3, 4, 5, 6, 7, 8, 9, 10])\n",
    "    print(third_stack._items)\n",
    "    print(third_stack.pop())       # Invoke the pop method 2 times - first round\n",
    "    print(third_stack._items)\n",
    "    print(third_stack.pop())       # Invoke the pop method 2 times - second round\n",
    "    print(third_stack._items)\n",
    "    "
   ]
  },
  {
   "cell_type": "markdown",
   "metadata": {
    "id": "jy3QeiXu3679"
   },
   "source": [
    "**c)** Define and implement a function that reverses the items of a given stack using only the methods defined in the Stack class.\n",
    "\n",
    "For example, if the stack includes the elements from one to ten: `[1, 2, 3, 4, 5, 6, 7, 8, 9, 10]`, then calling the new function will modify the stack elements to be from ten to one: `[10, 9, 8, 7, 6, 5, 4, 3, 2, 1]`"
   ]
  },
  {
   "cell_type": "code",
   "execution_count": 3,
   "metadata": {
    "execution": {
     "iopub.execute_input": "2022-06-02T20:43:50.180Z",
     "iopub.status.busy": "2022-06-02T20:43:50.173Z",
     "iopub.status.idle": "2022-06-02T20:43:50.188Z",
     "shell.execute_reply": "2022-06-02T20:43:50.009Z"
    },
    "id": "vvJsYxdmqYHt"
   },
   "outputs": [
    {
     "name": "stdout",
     "output_type": "stream",
     "text": [
      "Push 2 items at the same time from the second_stack object of [1, 2, 3, 4, 5, 6, 7, 8, 9, 10]\n",
      "[1, 2, 3, 4, 5, 6, 7, 8, 9, 10]\n",
      "[10, 9, 8, 7, 6, 5, 4, 3, 2, 1]\n"
     ]
    }
   ],
   "source": [
    "# c) Define and implement a function that reverses the items of a given stack\n",
    "####  Using only the methods defined in the Stack class\n",
    "class mStack:\n",
    "    def __init__(self, iArray=list()):\n",
    "        self._items = iArray\n",
    "    def isEmpty(self):            # Returns True if the stack is empty or return False\n",
    "        if len(self) == 0:\n",
    "            return True\n",
    "        else:\n",
    "            return False\n",
    "    def push(self, newItem):\n",
    "        self._items.append(newItem)\n",
    "    def pop(self):\n",
    "        if self.isEmpty():        # Check if it's an empty stack to pop\n",
    "            return \"The stack is empty.\"     \n",
    "        else:\n",
    "            item_to_pop = self._items[-1]\n",
    "            self._items.pop()\n",
    "            return item_to_pop\n",
    "    def peek(self):               # Check if it's an empty stack to peek\n",
    "        if self.isEmpty():\n",
    "            return \"The stack is empty.\"\n",
    "        else:\n",
    "            return self._items[-1] \n",
    "    def reverse(self):\n",
    "        return self._items[::-1]\n",
    "    def __len__(self):\n",
    "        return len(self._items)\n",
    "    def __str__(self):\n",
    "        result = ' '\n",
    "        for i in range(len(self)):\n",
    "            result += str(self._items[i]) + ' '\n",
    "        return result\n",
    "\n",
    "\n",
    "if __name__ == \"__main__\":\n",
    "    print(\"Push 2 items at the same time from the second_stack object of [1, 2, 3, 4, 5, 6, 7, 8, 9, 10]\")\n",
    "    fourth_stack = mStack([1, 2, 3, 4, 5, 6, 7, 8, 9, 10])\n",
    "    print(fourth_stack._items)\n",
    "    print(fourth_stack.reverse())"
   ]
  },
  {
   "cell_type": "markdown",
   "metadata": {
    "id": "2IV0N3fJAQfU"
   },
   "source": [
    "*****"
   ]
  },
  {
   "cell_type": "markdown",
   "metadata": {
    "id": "k07397EN8dyu"
   },
   "source": [
    "### **Question 2**: "
   ]
  },
  {
   "cell_type": "markdown",
   "metadata": {
    "id": "rRiTZiUCyJw8"
   },
   "source": [
    "**a)**  Write an algorithm that creates a Ragged Grid with four rows. The first row has 3 positions, the second row has 4 positions, the third row includes 6 positions, and the fourth row contains 1. You can modify the iArray ADT defined below or use any standard library to implement your algorithm.\n",
    "\n",
    "```\n",
    "class iArray():\n",
    "    def __init__(self, capacity, fillValue = None):\n",
    "        self._items = list()\n",
    "        for count in range(capacity): \n",
    "            self._items.append(fillValue)\n",
    "    def __len__(self):\n",
    "        return len(self._items)  \n",
    "    def __str__(self):\n",
    "        return str(self._items)\n",
    "    def __iter__(self):\n",
    "        return iter(self._items)\n",
    "    def __getitem__(self, index):\n",
    "        return self._items[index]\n",
    "    def __setitem__(self, index, newItem):\n",
    "        self._items[index] = newItem\n",
    "```\n"
   ]
  },
  {
   "cell_type": "code",
   "execution_count": 4,
   "metadata": {
    "execution": {
     "iopub.execute_input": "2022-06-02T20:43:50.207Z",
     "iopub.status.busy": "2022-06-02T20:43:50.200Z",
     "iopub.status.idle": "2022-06-02T20:43:50.215Z",
     "shell.execute_reply": "2022-06-02T20:43:50.020Z"
    },
    "id": "WijJ5QqlySxQ"
   },
   "outputs": [
    {
     "name": "stdout",
     "output_type": "stream",
     "text": [
      "\n",
      "None None None \n",
      "None None None None \n",
      "None None None None None None \n",
      "None \n",
      "\n",
      "\n",
      "36 39 63 \n",
      "28 43 10 -23 \n",
      "-93 90 -86 -49 72 -6 \n",
      "-30 \n",
      "\n"
     ]
    }
   ],
   "source": [
    "# a) Write an algorithm that creates a Ragged Grid with four rows\n",
    "## The first row has 3 positions, the second row has 4 positions\n",
    "## the third row includes 6 positions, and the fourth row contains 1\n",
    "\n",
    "# Import the random library for random values of the ragged grid later\n",
    "import random\n",
    "\n",
    "# Reuse the iArray class and its methods\n",
    "class iArray:\n",
    "    def __init__(self, capacity, fillValue = None):\n",
    "        self._items = list()\n",
    "        for count in range(capacity): \n",
    "            self._items.append(fillValue)\n",
    "    def __len__(self):\n",
    "        return len(self._items)  \n",
    "    def __str__(self):\n",
    "        return str(self._items)\n",
    "    def __iter__(self):\n",
    "        return iter(self._items)\n",
    "    def __getitem__(self, index):\n",
    "        return self._items[index]\n",
    "    def __setitem__(self, index, newItem):\n",
    "        self._items[index] = newItem\n",
    "\n",
    "# Create a new iRaggedGrid class with arg_list of numbers of rows, several positions of each row, padded with None value\n",
    "class iRaggedGrid:\n",
    "    def __init__(self, rows, *position, FillValue = None):  # Pass more than one positions when invoking the function\n",
    "        self._data = iArray(rows)\n",
    "        for row in range(rows):\n",
    "            self._data[row] = iArray(position[row])\n",
    "    def getRows(self):\n",
    "        return len(self._data)\n",
    "    def getColumns(self, row_index):\n",
    "        return len(self._data[row_index])\n",
    "    def __getitem__(self, index):\n",
    "        return self._data[index]\n",
    "    def __str__(self):\n",
    "        result = '\\n'\n",
    "        for row_index in range(self.getRows()):\n",
    "            for col_index in range(self.getColumns(row_index)):\n",
    "                result += repr(self._data[row_index][col_index]) + ' '\n",
    "            result += '\\n'\n",
    "        return result\n",
    "\n",
    "# Create a ragged_grid object as asked with rows=4,  positions=3, 4, 6, 1 repsectively \n",
    "ragged_grid = iRaggedGrid(4, 3, 4, 6, 1)\n",
    "print(ragged_grid)\n",
    "for r in range(ragged_grid.getRows()):\n",
    "    for c in range(ragged_grid.getColumns(r)):\n",
    "        ragged_grid[r][c] = random.randint(-100,100) # Add in random elements from [-100, 100]\n",
    "print(ragged_grid)"
   ]
  },
  {
   "cell_type": "markdown",
   "metadata": {
    "id": "e244Y9zXy2Jo"
   },
   "source": [
    "\n",
    "**b)** Write an algorithm to create and display a two-dimensional array or a regular Grid of three rows and four columns. The Grid's elements are selected randomly from an inclusive interval of `[-100, 100]`. You can install and use any standard or third-party library to report your answer to this question."
   ]
  },
  {
   "cell_type": "code",
   "execution_count": 5,
   "metadata": {},
   "outputs": [
    {
     "name": "stdout",
     "output_type": "stream",
     "text": [
      " None None None None \n",
      "None None None None \n",
      "None None None None \n",
      "\n",
      " 67 65 46 43 \n",
      "46 -85 -94 18 \n",
      "-58 20 -42 -22 \n",
      "\n"
     ]
    }
   ],
   "source": [
    "# b) Write an algorithm to create and display a two-dimensional array/a regular Grid of three rows and four columns\n",
    "## The Grid's elements are selected randomly from an inclusive interval of [-100, 100]\n",
    "\n",
    "# Import the random library for random values of the grid grid later\n",
    "import random\n",
    "\n",
    "# Reuse the iArray class and its methods\n",
    "class iArray:\n",
    "    def __init__(self, capacity, fillValue = None):\n",
    "        self._items = list()\n",
    "        for count in range(capacity): \n",
    "            self._items.append(fillValue)\n",
    "    def __len__(self):\n",
    "        return len(self._items)  \n",
    "    def __str__(self):\n",
    "        return str(self._items)\n",
    "    def __iter__(self):\n",
    "        return iter(self._items)\n",
    "    def __getitem__(self, index):\n",
    "        return self._items[index]\n",
    "    def __setitem__(self, index, newItem):\n",
    "        self._items[index] = newItem\n",
    "\n",
    "# Create a new iGrid class with arg_list of numbers of rows and columns, padded with None value\n",
    "class iGrid:\n",
    "    def __init__(self, rows, columns, fillValue = None):\n",
    "        self._data = iArray(rows)\n",
    "        for row in range(rows):\n",
    "            self._data[row] = iArray(columns, fillValue)\n",
    "    def getRows(self):\n",
    "        return len(self._data)\n",
    "    def getColumns(self):\n",
    "        return len(self._data[0])\n",
    "    def __getitem__(self, index):\n",
    "        return self._data[index]\n",
    "    def __str__(self):\n",
    "        result = ' '\n",
    "        for row in range(self.getRows()):\n",
    "            for col in range(self.getColumns()):\n",
    "                result += str(self._data[row][col]) + ' '\n",
    "            result += '\\n'\n",
    "        return result\n",
    "\n",
    "# Create an new_grid object as asked with rows=3, columns=4\n",
    "new_grid = iGrid(3, 4)\n",
    "print(new_grid)\n",
    "for r in range(new_grid.getRows()):\n",
    "    for c in range(new_grid.getColumns()):\n",
    "        new_grid[r][c] = random.randint(-100,100) # Add in random elements from [-100, 100]\n",
    "print(new_grid)   "
   ]
  },
  {
   "cell_type": "markdown",
   "metadata": {
    "id": "JOHDZruJzNcd"
   },
   "source": [
    "**c)** \n",
    "Define and implement a [Double-ended queue](https://en.wikipedia.org/wiki/Queue_(abstract_data_type)) (Deque) ADT. The Deque is a sequence of items where addtions and deletions of items can be done at both ends of the sequence.  The Deque can be implemnted using the iArray ADT with the following methods: \n",
    "``` \n",
    "constructor, append_left, append_right, pop_left, pop_right, peek_left, peek_right, __len__, and __str__.\n",
    "```\n",
    "\n",
    "```\n",
    "class Deque(iArray):\n",
    "  def __init__(self, capacity = 10):\n",
    "    #INSERT YOUR ANSWER HERE.\n",
    "  \n",
    "  def append_left(self, newItem):\n",
    "    #INSERT YOUR ANSWER HERE.\n",
    "  \n",
    "  def append_right(self, newItem):  \n",
    "    #INSERT YOUR ANSWER HERE.\n",
    "  \n",
    "  def pop_left(self):\n",
    "    #INSERT YOUR ANSWER HERE.\n",
    "  \n",
    "  def pop_right(self):\n",
    "    #INSERT YOUR ANSWER HERE.\n",
    "  \n",
    "  def peek_left(self):\n",
    "    #INSERT YOUR ANSWER HERE.\n",
    "  \n",
    "  def peek_right(self):\n",
    "    #INSERT YOUR ANSWER HERE.\n",
    "  \n",
    "  def __len__(self):\n",
    "    #INSERT YOUR ANSWER HERE.\n",
    "  \n",
    "  def __str__(self):\n",
    "    #INSERT YOUR ANSWER HERE.\n",
    "```"
   ]
  },
  {
   "cell_type": "code",
   "execution_count": 6,
   "metadata": {
    "execution": {
     "iopub.execute_input": "2022-06-02T20:43:50.263Z",
     "iopub.status.busy": "2022-06-02T20:43:50.256Z",
     "iopub.status.idle": "2022-06-02T20:43:50.272Z",
     "shell.execute_reply": "2022-06-02T20:43:50.039Z"
    },
    "id": "4wqA5wHD07xS"
   },
   "outputs": [],
   "source": [
    "# Reuse the iArray class and its methods\n",
    "class iArray:\n",
    "    def __init__(self, capacity, fillValue = None):\n",
    "        self._items = list()\n",
    "        for count in range(capacity): \n",
    "            self._items.append(fillValue)\n",
    "    def __len__(self):\n",
    "        return len(self._items)  \n",
    "    def __str__(self):\n",
    "        return str(self._items)\n",
    "    def __iter__(self):\n",
    "        return iter(self._items)\n",
    "    def __getitem__(self, index):\n",
    "        return self._items[index]\n",
    "    def __setitem__(self, index, newItem):\n",
    "        self._items[index] = newItem\n",
    "\n",
    "# Define and implement a Double-ended queue (Deque) ADT\n",
    "class Deque(iArray):\n",
    "    def __init__(self, capacity = 10):\n",
    "        self._items = iArray(capacity)\n",
    "        self._front = 0\n",
    "        self._rear = -1\n",
    "        self._size = 0\n",
    "    def append_left(self, newItem):\n",
    "        for i in range(len(self) - 1):\n",
    "            self._items[i] = self._items[i + 1]\n",
    "        self._items[self._front] = newItem\n",
    "        self._size += 1\n",
    "    def append_right(self, newItem):\n",
    "        self._items[self._rear] = newItem\n",
    "        self.rear += 1\n",
    "        self._size += 1\n",
    "    def pop_left(self):\n",
    "        oldFront = self._items[0]\n",
    "        for i in range(len(self) - 1):\n",
    "            self._items[i] = self._items[i - 1]\n",
    "        self._rear -= 1\n",
    "        self._size -= 1\n",
    "        return oldFront\n",
    "    def pop_right(self):\n",
    "        self._items.pop()\n",
    "        self._rear -= 1\n",
    "        self._size -= 1\n",
    "    def peek_left(self):\n",
    "        if len(self._items) != 0:\n",
    "            return self._front\n",
    "        else:\n",
    "            print(\"The deque is empty\")\n",
    "    def peek_right(self):\n",
    "        if len(self._items) != 0:\n",
    "            return self._rear\n",
    "        else:\n",
    "            print(\"The deque is empty\")\n",
    "    def __len__(self):\n",
    "        return self._size\n",
    "    def __str__(self):\n",
    "        result = ' '\n",
    "        if len(self.items) == 0:\n",
    "            print(\"The deque is empty\")\n",
    "        else:\n",
    "            result = str(self._items)\n",
    "            return result"
   ]
  },
  {
   "cell_type": "markdown",
   "metadata": {
    "id": "0kQIsm9gAS21"
   },
   "source": [
    "*****"
   ]
  }
 ],
 "metadata": {
  "colab": {
   "collapsed_sections": [],
   "name": "CIND830S22_Assignment3_Q.ipynb",
   "provenance": [],
   "toc_visible": true
  },
  "kernelspec": {
   "display_name": "Python 3",
   "language": "python",
   "name": "python3"
  },
  "language_info": {
   "codemirror_mode": {
    "name": "ipython",
    "version": 3
   },
   "file_extension": ".py",
   "mimetype": "text/x-python",
   "name": "python",
   "nbconvert_exporter": "python",
   "pygments_lexer": "ipython3",
   "version": "3.8.8"
  },
  "nteract": {
   "version": "0.28.0"
  },
  "varInspector": {
   "cols": {
    "lenName": 16,
    "lenType": 16,
    "lenVar": 40
   },
   "kernels_config": {
    "python": {
     "delete_cmd_postfix": "",
     "delete_cmd_prefix": "del ",
     "library": "var_list.py",
     "varRefreshCmd": "print(var_dic_list())"
    },
    "r": {
     "delete_cmd_postfix": ") ",
     "delete_cmd_prefix": "rm(",
     "library": "var_list.r",
     "varRefreshCmd": "cat(var_dic_list()) "
    }
   },
   "types_to_exclude": [
    "module",
    "function",
    "builtin_function_or_method",
    "instance",
    "_Feature"
   ],
   "window_display": false
  }
 },
 "nbformat": 4,
 "nbformat_minor": 1
}
